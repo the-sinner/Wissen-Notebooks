{
 "cells": [
  {
   "cell_type": "markdown",
   "metadata": {
    "id": "4dfOY9SbkL5D"
   },
   "source": [
    "# using CLI"
   ]
  },
  {
   "cell_type": "code",
   "execution_count": null,
   "metadata": {
    "id": "UWxCoCDlEzRp"
   },
   "outputs": [],
   "source": [
    "!pip install rasa[full]"
   ]
  },
  {
   "cell_type": "code",
   "execution_count": null,
   "metadata": {
    "colab": {
     "base_uri": "https://localhost:8080/"
    },
    "executionInfo": {
     "elapsed": 140504,
     "status": "ok",
     "timestamp": 1681975331632,
     "user": {
      "displayName": "Shalabh Agarwal",
      "userId": "16764498119904849353"
     },
     "user_tz": -330
    },
    "id": "Gx59qPArFpWG",
    "outputId": "5295289d-8668-48a7-ab32-e8ed0f81b4ac"
   },
   "outputs": [
    {
     "name": "stdout",
     "output_type": "stream",
     "text": [
      "/usr/local/lib/python3.9/dist-packages/rasa/core/tracker_store.py:1048: MovedIn20Warning: \u001b[31mDeprecated API features detected! These feature(s) are not compatible with SQLAlchemy 2.0. \u001b[32mTo prevent incompatible upgrades prior to updating applications, ensure requirements files are pinned to \"sqlalchemy<2.0\". \u001b[36mSet environment variable SQLALCHEMY_WARN_20=1 to show all deprecation warnings.  Set environment variable SQLALCHEMY_SILENCE_UBER_WARNING=1 to silence this message.\u001b[0m (Background on SQLAlchemy 2.0 at: https://sqlalche.me/e/b8d9)\n",
      "  Base: DeclarativeMeta = declarative_base()\n",
      "\u001b(0lqqqqqqqqqqqqqqqqqqqqqqqqqqqqqqqqqqqqqqqqqqqqqqqqqqqqqqqqqqqqqqqqqqqqqqqqqqqqqqqqk\u001b(B\n",
      "\u001b(0x\u001b(B Rasa Open Source reports anonymous usage telemetry to help improve the product \u001b(0x\u001b(B\n",
      "\u001b(0x\u001b(B for all its users.                                                             \u001b(0x\u001b(B\n",
      "\u001b(0x\u001b(B                                                                                \u001b(0x\u001b(B\n",
      "\u001b(0x\u001b(B If you'd like to opt-out, you can use `rasa telemetry disable`.                \u001b(0x\u001b(B\n",
      "\u001b(0x\u001b(B To learn more, check out https://rasa.com/docs/rasa/telemetry/telemetry.       \u001b(0x\u001b(B\n",
      "\u001b(0mqqqqqqqqqqqqqqqqqqqqqqqqqqqqqqqqqqqqqqqqqqqqqqqqqqqqqqqqqqqqqqqqqqqqqqqqqqqqqqqqj\u001b(B\n",
      "/usr/local/lib/python3.9/dist-packages/pkg_resources/__init__.py:121: DeprecationWarning: pkg_resources is deprecated as an API\n",
      "  warnings.warn(\"pkg_resources is deprecated as an API\", DeprecationWarning)\n",
      "/usr/local/lib/python3.9/dist-packages/pkg_resources/__init__.py:2870: DeprecationWarning: Deprecated call to `pkg_resources.declare_namespace('google')`.\n",
      "Implementing implicit namespace packages (as specified in PEP 420) is preferred to `pkg_resources.declare_namespace`. See https://setuptools.pypa.io/en/latest/references/keywords.html#keyword-namespace-packages\n",
      "  declare_namespace(pkg)\n",
      "/usr/local/lib/python3.9/dist-packages/pkg_resources/__init__.py:2870: DeprecationWarning: Deprecated call to `pkg_resources.declare_namespace('google.cloud')`.\n",
      "Implementing implicit namespace packages (as specified in PEP 420) is preferred to `pkg_resources.declare_namespace`. See https://setuptools.pypa.io/en/latest/references/keywords.html#keyword-namespace-packages\n",
      "  declare_namespace(pkg)\n",
      "/usr/local/lib/python3.9/dist-packages/pkg_resources/__init__.py:2870: DeprecationWarning: Deprecated call to `pkg_resources.declare_namespace('google.logging')`.\n",
      "Implementing implicit namespace packages (as specified in PEP 420) is preferred to `pkg_resources.declare_namespace`. See https://setuptools.pypa.io/en/latest/references/keywords.html#keyword-namespace-packages\n",
      "  declare_namespace(pkg)\n",
      "/usr/local/lib/python3.9/dist-packages/pkg_resources/__init__.py:2870: DeprecationWarning: Deprecated call to `pkg_resources.declare_namespace('mpl_toolkits')`.\n",
      "Implementing implicit namespace packages (as specified in PEP 420) is preferred to `pkg_resources.declare_namespace`. See https://setuptools.pypa.io/en/latest/references/keywords.html#keyword-namespace-packages\n",
      "  declare_namespace(pkg)\n",
      "/usr/local/lib/python3.9/dist-packages/pkg_resources/__init__.py:2870: DeprecationWarning: Deprecated call to `pkg_resources.declare_namespace('ruamel')`.\n",
      "Implementing implicit namespace packages (as specified in PEP 420) is preferred to `pkg_resources.declare_namespace`. See https://setuptools.pypa.io/en/latest/references/keywords.html#keyword-namespace-packages\n",
      "  declare_namespace(pkg)\n",
      "/usr/local/lib/python3.9/dist-packages/pkg_resources/__init__.py:2870: DeprecationWarning: Deprecated call to `pkg_resources.declare_namespace('ruamel.yaml')`.\n",
      "Implementing implicit namespace packages (as specified in PEP 420) is preferred to `pkg_resources.declare_namespace`. See https://setuptools.pypa.io/en/latest/references/keywords.html#keyword-namespace-packages\n",
      "  declare_namespace(pkg)\n",
      "/usr/local/lib/python3.9/dist-packages/pkg_resources/__init__.py:2870: DeprecationWarning: Deprecated call to `pkg_resources.declare_namespace('sphinxcontrib')`.\n",
      "Implementing implicit namespace packages (as specified in PEP 420) is preferred to `pkg_resources.declare_namespace`. See https://setuptools.pypa.io/en/latest/references/keywords.html#keyword-namespace-packages\n",
      "  declare_namespace(pkg)\n",
      "\u001b[92mWelcome to Rasa! 🤖\n",
      "\u001b[0m\n",
      "To get started quickly, an initial project will be created.\n",
      "If you need some help, check out the documentation at https://rasa.com/docs/rasa.\n",
      "\n",
      "Created project directory at '/content'.\n",
      "\u001b[92mFinished creating project structure.\u001b[0m\n",
      "\u001b[92mTraining an initial model...\u001b[0m\n",
      "2023-04-20 07:19:56 \u001b[1;30mINFO    \u001b[0m \u001b[34mnumexpr.utils\u001b[0m  - NumExpr defaulting to 2 threads.\n",
      "\u001b[94mThe configuration for policies and pipeline was chosen automatically. It was written into the config file at 'config.yml'.\u001b[0m\n",
      "2023-04-20 07:20:01 \u001b[1;30mINFO    \u001b[0m \u001b[34mrasa.engine.training.hooks\u001b[0m  - Starting to train component 'RegexFeaturizer'.\n",
      "2023-04-20 07:20:01 \u001b[1;30mINFO    \u001b[0m \u001b[34mrasa.engine.training.hooks\u001b[0m  - Finished training component 'RegexFeaturizer'.\n",
      "2023-04-20 07:20:01 \u001b[1;30mINFO    \u001b[0m \u001b[34mrasa.engine.training.hooks\u001b[0m  - Starting to train component 'LexicalSyntacticFeaturizer'.\n",
      "2023-04-20 07:20:01 \u001b[1;30mINFO    \u001b[0m \u001b[34mrasa.engine.training.hooks\u001b[0m  - Finished training component 'LexicalSyntacticFeaturizer'.\n",
      "2023-04-20 07:20:01 \u001b[1;30mINFO    \u001b[0m \u001b[34mrasa.engine.training.hooks\u001b[0m  - Starting to train component 'CountVectorsFeaturizer'.\n",
      "2023-04-20 07:20:01 \u001b[1;30mINFO    \u001b[0m \u001b[34mrasa.nlu.featurizers.sparse_featurizer.count_vectors_featurizer\u001b[0m  - 80 vocabulary items were created for text attribute.\n",
      "2023-04-20 07:20:01 \u001b[1;30mINFO    \u001b[0m \u001b[34mrasa.engine.training.hooks\u001b[0m  - Finished training component 'CountVectorsFeaturizer'.\n",
      "2023-04-20 07:20:02 \u001b[1;30mINFO    \u001b[0m \u001b[34mrasa.engine.training.hooks\u001b[0m  - Starting to train component 'CountVectorsFeaturizer'.\n",
      "2023-04-20 07:20:02 \u001b[1;30mINFO    \u001b[0m \u001b[34mrasa.nlu.featurizers.sparse_featurizer.count_vectors_featurizer\u001b[0m  - 697 vocabulary items were created for text attribute.\n",
      "2023-04-20 07:20:02 \u001b[1;30mINFO    \u001b[0m \u001b[34mrasa.engine.training.hooks\u001b[0m  - Finished training component 'CountVectorsFeaturizer'.\n",
      "2023-04-20 07:20:02 \u001b[1;30mINFO    \u001b[0m \u001b[34mrasa.engine.training.hooks\u001b[0m  - Starting to train component 'DIETClassifier'.\n",
      "Epochs: 100% 100/100 [00:55<00:00,  1.79it/s, t_loss=1.18, i_acc=1]\n",
      "2023-04-20 07:20:59 \u001b[1;30mINFO    \u001b[0m \u001b[34mrasa.engine.training.hooks\u001b[0m  - Finished training component 'DIETClassifier'.\n",
      "2023-04-20 07:20:59 \u001b[1;30mINFO    \u001b[0m \u001b[34mrasa.engine.training.hooks\u001b[0m  - Starting to train component 'EntitySynonymMapper'.\n",
      "2023-04-20 07:20:59 \u001b[1;30mINFO    \u001b[0m \u001b[34mrasa.engine.training.hooks\u001b[0m  - Finished training component 'EntitySynonymMapper'.\n",
      "2023-04-20 07:20:59 \u001b[1;30mINFO    \u001b[0m \u001b[34mrasa.engine.training.hooks\u001b[0m  - Starting to train component 'ResponseSelector'.\n",
      "2023-04-20 07:20:59 \u001b[1;30mINFO    \u001b[0m \u001b[34mrasa.nlu.selectors.response_selector\u001b[0m  - Retrieval intent parameter was left to its default value. This response selector will be trained on training examples combining all retrieval intents.\n",
      "2023-04-20 07:20:59 \u001b[1;30mINFO    \u001b[0m \u001b[34mrasa.engine.training.hooks\u001b[0m  - Finished training component 'ResponseSelector'.\n",
      "Processed story blocks: 100% 3/3 [00:00<00:00, 2567.42it/s, # trackers=1]\n",
      "Processed story blocks: 100% 3/3 [00:00<00:00, 1146.09it/s, # trackers=3]\n",
      "Processed story blocks: 100% 3/3 [00:00<00:00, 268.88it/s, # trackers=12]\n",
      "Processed story blocks: 100% 3/3 [00:00<00:00, 68.46it/s, # trackers=39]\n",
      "Processed rules: 100% 2/2 [00:00<00:00, 3728.27it/s, # trackers=1]\n",
      "2023-04-20 07:20:59 \u001b[1;30mINFO    \u001b[0m \u001b[34mrasa.engine.training.hooks\u001b[0m  - Starting to train component 'MemoizationPolicy'.\n",
      "Processed trackers: 100% 3/3 [00:00<00:00, 2976.79it/s, # action=12]\n",
      "Processed actions: 12it [00:00, 11020.72it/s, # examples=12]\n",
      "2023-04-20 07:21:00 \u001b[1;30mINFO    \u001b[0m \u001b[34mrasa.engine.training.hooks\u001b[0m  - Finished training component 'MemoizationPolicy'.\n",
      "2023-04-20 07:21:00 \u001b[1;30mINFO    \u001b[0m \u001b[34mrasa.engine.training.hooks\u001b[0m  - Starting to train component 'RulePolicy'.\n",
      "Processed trackers: 100% 2/2 [00:00<00:00, 1830.77it/s, # action=5]\n",
      "Processed actions: 5it [00:00, 19187.12it/s, # examples=4]\n",
      "Processed trackers: 100% 3/3 [00:00<00:00, 1835.85it/s, # action=12]\n",
      "Processed trackers: 100% 2/2 [00:00<00:00, 1826.79it/s]\n",
      "Processed trackers: 100% 5/5 [00:00<00:00, 1397.36it/s]\n",
      "2023-04-20 07:21:00 \u001b[1;30mINFO    \u001b[0m \u001b[34mrasa.engine.training.hooks\u001b[0m  - Finished training component 'RulePolicy'.\n",
      "2023-04-20 07:21:00 \u001b[1;30mINFO    \u001b[0m \u001b[34mrasa.engine.training.hooks\u001b[0m  - Starting to train component 'TEDPolicy'.\n",
      "Processed trackers: 100% 120/120 [00:00<00:00, 2478.39it/s, # action=30]\n",
      "Epochs: 100% 100/100 [00:25<00:00,  3.86it/s, t_loss=2.79, loss=2.63, acc=0.967]\n",
      "2023-04-20 07:21:29 \u001b[1;30mINFO    \u001b[0m \u001b[34mrasa.engine.training.hooks\u001b[0m  - Finished training component 'TEDPolicy'.\n",
      "2023-04-20 07:21:29 \u001b[1;30mINFO    \u001b[0m \u001b[34mrasa.engine.training.hooks\u001b[0m  - Starting to train component 'UnexpecTEDIntentPolicy'.\n",
      "2023-04-20 07:21:29 \u001b[1;30mWARNING \u001b[0m \u001b[34mrasa.shared.utils.common\u001b[0m  - \u001b[33mThe UnexpecTED Intent Policy is currently experimental and might change or be removed in the future 🔬 Please share your feedback on it in the forum (https://forum.rasa.com) to help us make this feature ready for production.\u001b[0m\n",
      "Processed trackers: 100% 120/120 [00:00<00:00, 2304.39it/s, # intent=12]\n",
      "Epochs: 100% 100/100 [00:26<00:00,  3.83it/s, t_loss=0.123, loss=0.00815, acc=1]\n",
      "2023-04-20 07:22:01 \u001b[1;30mINFO    \u001b[0m \u001b[34mrasa.engine.training.hooks\u001b[0m  - Finished training component 'UnexpecTEDIntentPolicy'.\n",
      "\u001b[92mYour Rasa model is trained and saved at 'models/20230420-072000-current-color.tar.gz'.\u001b[0m\n",
      "If you want to speak to the assistant, run 'rasa shell' at any time inside the project directory.\n"
     ]
    },
    {
     "data": {
      "text/plain": []
     },
     "execution_count": 3,
     "metadata": {},
     "output_type": "execute_result"
    }
   ],
   "source": [
    "%%shell\n",
    "rasa init --no-prompt"
   ]
  },
  {
   "cell_type": "code",
   "execution_count": null,
   "metadata": {
    "colab": {
     "base_uri": "https://localhost:8080/"
    },
    "executionInfo": {
     "elapsed": 20262,
     "status": "ok",
     "timestamp": 1681975580265,
     "user": {
      "displayName": "Shalabh Agarwal",
      "userId": "16764498119904849353"
     },
     "user_tz": -330
    },
    "id": "wjiY7DIzGkCO",
    "outputId": "aaf85cba-a1ff-4d12-a144-210ac43ef629"
   },
   "outputs": [
    {
     "name": "stdout",
     "output_type": "stream",
     "text": [
      "/usr/local/lib/python3.9/dist-packages/rasa/core/tracker_store.py:1048: MovedIn20Warning: \u001b[31mDeprecated API features detected! These feature(s) are not compatible with SQLAlchemy 2.0. \u001b[32mTo prevent incompatible upgrades prior to updating applications, ensure requirements files are pinned to \"sqlalchemy<2.0\". \u001b[36mSet environment variable SQLALCHEMY_WARN_20=1 to show all deprecation warnings.  Set environment variable SQLALCHEMY_SILENCE_UBER_WARNING=1 to silence this message.\u001b[0m (Background on SQLAlchemy 2.0 at: https://sqlalche.me/e/b8d9)\n",
      "  Base: DeclarativeMeta = declarative_base()\n",
      "/usr/local/lib/python3.9/dist-packages/pkg_resources/__init__.py:121: DeprecationWarning: pkg_resources is deprecated as an API\n",
      "  warnings.warn(\"pkg_resources is deprecated as an API\", DeprecationWarning)\n",
      "/usr/local/lib/python3.9/dist-packages/pkg_resources/__init__.py:2870: DeprecationWarning: Deprecated call to `pkg_resources.declare_namespace('google')`.\n",
      "Implementing implicit namespace packages (as specified in PEP 420) is preferred to `pkg_resources.declare_namespace`. See https://setuptools.pypa.io/en/latest/references/keywords.html#keyword-namespace-packages\n",
      "  declare_namespace(pkg)\n",
      "/usr/local/lib/python3.9/dist-packages/pkg_resources/__init__.py:2870: DeprecationWarning: Deprecated call to `pkg_resources.declare_namespace('google.cloud')`.\n",
      "Implementing implicit namespace packages (as specified in PEP 420) is preferred to `pkg_resources.declare_namespace`. See https://setuptools.pypa.io/en/latest/references/keywords.html#keyword-namespace-packages\n",
      "  declare_namespace(pkg)\n",
      "/usr/local/lib/python3.9/dist-packages/pkg_resources/__init__.py:2870: DeprecationWarning: Deprecated call to `pkg_resources.declare_namespace('google.logging')`.\n",
      "Implementing implicit namespace packages (as specified in PEP 420) is preferred to `pkg_resources.declare_namespace`. See https://setuptools.pypa.io/en/latest/references/keywords.html#keyword-namespace-packages\n",
      "  declare_namespace(pkg)\n",
      "/usr/local/lib/python3.9/dist-packages/pkg_resources/__init__.py:2870: DeprecationWarning: Deprecated call to `pkg_resources.declare_namespace('mpl_toolkits')`.\n",
      "Implementing implicit namespace packages (as specified in PEP 420) is preferred to `pkg_resources.declare_namespace`. See https://setuptools.pypa.io/en/latest/references/keywords.html#keyword-namespace-packages\n",
      "  declare_namespace(pkg)\n",
      "/usr/local/lib/python3.9/dist-packages/pkg_resources/__init__.py:2870: DeprecationWarning: Deprecated call to `pkg_resources.declare_namespace('ruamel')`.\n",
      "Implementing implicit namespace packages (as specified in PEP 420) is preferred to `pkg_resources.declare_namespace`. See https://setuptools.pypa.io/en/latest/references/keywords.html#keyword-namespace-packages\n",
      "  declare_namespace(pkg)\n",
      "/usr/local/lib/python3.9/dist-packages/pkg_resources/__init__.py:2870: DeprecationWarning: Deprecated call to `pkg_resources.declare_namespace('ruamel.yaml')`.\n",
      "Implementing implicit namespace packages (as specified in PEP 420) is preferred to `pkg_resources.declare_namespace`. See https://setuptools.pypa.io/en/latest/references/keywords.html#keyword-namespace-packages\n",
      "  declare_namespace(pkg)\n",
      "/usr/local/lib/python3.9/dist-packages/pkg_resources/__init__.py:2870: DeprecationWarning: Deprecated call to `pkg_resources.declare_namespace('sphinxcontrib')`.\n",
      "Implementing implicit namespace packages (as specified in PEP 420) is preferred to `pkg_resources.declare_namespace`. See https://setuptools.pypa.io/en/latest/references/keywords.html#keyword-namespace-packages\n",
      "  declare_namespace(pkg)\n",
      "2023-04-20 07:26:04 \u001b[1;30mINFO    \u001b[0m \u001b[34mnumexpr.utils\u001b[0m  - NumExpr defaulting to 2 threads.\n",
      "\u001b[94mThe configuration for pipeline and policies was chosen automatically. It was written into the config file at 'config.yml'.\u001b[0m\n",
      "2023-04-20 07:26:08 \u001b[1;30mINFO    \u001b[0m \u001b[34mrasa.engine.training.hooks\u001b[0m  - Restored component 'CountVectorsFeaturizer' from cache.\n",
      "2023-04-20 07:26:08 \u001b[1;30mINFO    \u001b[0m \u001b[34mrasa.engine.training.hooks\u001b[0m  - Restored component 'CountVectorsFeaturizer' from cache.\n",
      "2023-04-20 07:26:08 \u001b[1;30mINFO    \u001b[0m \u001b[34mrasa.engine.training.hooks\u001b[0m  - Restored component 'DIETClassifier' from cache.\n",
      "2023-04-20 07:26:08 \u001b[1;30mINFO    \u001b[0m \u001b[34mrasa.engine.training.hooks\u001b[0m  - Restored component 'EntitySynonymMapper' from cache.\n",
      "2023-04-20 07:26:08 \u001b[1;30mINFO    \u001b[0m \u001b[34mrasa.engine.training.hooks\u001b[0m  - Restored component 'LexicalSyntacticFeaturizer' from cache.\n",
      "2023-04-20 07:26:08 \u001b[1;30mINFO    \u001b[0m \u001b[34mrasa.engine.training.hooks\u001b[0m  - Restored component 'MemoizationPolicy' from cache.\n",
      "2023-04-20 07:26:08 \u001b[1;30mINFO    \u001b[0m \u001b[34mrasa.engine.training.hooks\u001b[0m  - Restored component 'RegexFeaturizer' from cache.\n",
      "2023-04-20 07:26:08 \u001b[1;30mINFO    \u001b[0m \u001b[34mrasa.engine.training.hooks\u001b[0m  - Restored component 'ResponseSelector' from cache.\n",
      "2023-04-20 07:26:08 \u001b[1;30mINFO    \u001b[0m \u001b[34mrasa.engine.training.hooks\u001b[0m  - Restored component 'RulePolicy' from cache.\n",
      "2023-04-20 07:26:08 \u001b[1;30mINFO    \u001b[0m \u001b[34mrasa.engine.training.hooks\u001b[0m  - Restored component 'TEDPolicy' from cache.\n",
      "2023-04-20 07:26:08 \u001b[1;30mINFO    \u001b[0m \u001b[34mrasa.engine.training.hooks\u001b[0m  - Restored component 'UnexpecTEDIntentPolicy' from cache.\n",
      "\u001b[92mYour Rasa model is trained and saved at 'models/20230420-072607-weathered-cockpit.tar.gz'.\u001b[0m\n"
     ]
    },
    {
     "data": {
      "text/plain": []
     },
     "execution_count": 4,
     "metadata": {},
     "output_type": "execute_result"
    }
   ],
   "source": [
    "%%shell\n",
    "rasa train"
   ]
  },
  {
   "cell_type": "code",
   "execution_count": null,
   "metadata": {
    "colab": {
     "base_uri": "https://localhost:8080/"
    },
    "executionInfo": {
     "elapsed": 278093,
     "status": "ok",
     "timestamp": 1681884585950,
     "user": {
      "displayName": "Shalabh Agarwal",
      "userId": "16764498119904849353"
     },
     "user_tz": -330
    },
    "id": "xcyiPrdJHIXH",
    "outputId": "866d9139-7f71-4578-9b6e-77eb58b65d7c"
   },
   "outputs": [
    {
     "name": "stdout",
     "output_type": "stream",
     "text": [
      "/usr/local/lib/python3.9/dist-packages/rasa/core/tracker_store.py:1048: MovedIn20Warning: \u001b[31mDeprecated API features detected! These feature(s) are not compatible with SQLAlchemy 2.0. \u001b[32mTo prevent incompatible upgrades prior to updating applications, ensure requirements files are pinned to \"sqlalchemy<2.0\". \u001b[36mSet environment variable SQLALCHEMY_WARN_20=1 to show all deprecation warnings.  Set environment variable SQLALCHEMY_SILENCE_UBER_WARNING=1 to silence this message.\u001b[0m (Background on SQLAlchemy 2.0 at: https://sqlalche.me/e/b8d9)\n",
      "  Base: DeclarativeMeta = declarative_base()\n",
      "/usr/local/lib/python3.9/dist-packages/pkg_resources/__init__.py:121: DeprecationWarning: pkg_resources is deprecated as an API\n",
      "  warnings.warn(\"pkg_resources is deprecated as an API\", DeprecationWarning)\n",
      "/usr/local/lib/python3.9/dist-packages/pkg_resources/__init__.py:2870: DeprecationWarning: Deprecated call to `pkg_resources.declare_namespace('google')`.\n",
      "Implementing implicit namespace packages (as specified in PEP 420) is preferred to `pkg_resources.declare_namespace`. See https://setuptools.pypa.io/en/latest/references/keywords.html#keyword-namespace-packages\n",
      "  declare_namespace(pkg)\n",
      "/usr/local/lib/python3.9/dist-packages/pkg_resources/__init__.py:2870: DeprecationWarning: Deprecated call to `pkg_resources.declare_namespace('google.cloud')`.\n",
      "Implementing implicit namespace packages (as specified in PEP 420) is preferred to `pkg_resources.declare_namespace`. See https://setuptools.pypa.io/en/latest/references/keywords.html#keyword-namespace-packages\n",
      "  declare_namespace(pkg)\n",
      "/usr/local/lib/python3.9/dist-packages/pkg_resources/__init__.py:2870: DeprecationWarning: Deprecated call to `pkg_resources.declare_namespace('google.logging')`.\n",
      "Implementing implicit namespace packages (as specified in PEP 420) is preferred to `pkg_resources.declare_namespace`. See https://setuptools.pypa.io/en/latest/references/keywords.html#keyword-namespace-packages\n",
      "  declare_namespace(pkg)\n",
      "/usr/local/lib/python3.9/dist-packages/pkg_resources/__init__.py:2870: DeprecationWarning: Deprecated call to `pkg_resources.declare_namespace('mpl_toolkits')`.\n",
      "Implementing implicit namespace packages (as specified in PEP 420) is preferred to `pkg_resources.declare_namespace`. See https://setuptools.pypa.io/en/latest/references/keywords.html#keyword-namespace-packages\n",
      "  declare_namespace(pkg)\n",
      "/usr/local/lib/python3.9/dist-packages/pkg_resources/__init__.py:2870: DeprecationWarning: Deprecated call to `pkg_resources.declare_namespace('ruamel')`.\n",
      "Implementing implicit namespace packages (as specified in PEP 420) is preferred to `pkg_resources.declare_namespace`. See https://setuptools.pypa.io/en/latest/references/keywords.html#keyword-namespace-packages\n",
      "  declare_namespace(pkg)\n",
      "/usr/local/lib/python3.9/dist-packages/pkg_resources/__init__.py:2870: DeprecationWarning: Deprecated call to `pkg_resources.declare_namespace('ruamel.yaml')`.\n",
      "Implementing implicit namespace packages (as specified in PEP 420) is preferred to `pkg_resources.declare_namespace`. See https://setuptools.pypa.io/en/latest/references/keywords.html#keyword-namespace-packages\n",
      "  declare_namespace(pkg)\n",
      "/usr/local/lib/python3.9/dist-packages/pkg_resources/__init__.py:2870: DeprecationWarning: Deprecated call to `pkg_resources.declare_namespace('sphinxcontrib')`.\n",
      "Implementing implicit namespace packages (as specified in PEP 420) is preferred to `pkg_resources.declare_namespace`. See https://setuptools.pypa.io/en/latest/references/keywords.html#keyword-namespace-packages\n",
      "  declare_namespace(pkg)\n",
      "2023-04-19 06:05:11 \u001b[1;30mINFO    \u001b[0m \u001b[34mnumexpr.utils\u001b[0m  - NumExpr defaulting to 2 threads.\n",
      "2023-04-19 06:05:14 \u001b[1;30mINFO    \u001b[0m \u001b[34mroot\u001b[0m  - Connecting to channel 'cmdline' which was specified by the '--connector' argument. Any other channels will be ignored. To connect to all given channels, omit the '--connector' argument.\n",
      "2023-04-19 06:05:14 \u001b[1;30mINFO    \u001b[0m \u001b[34mroot\u001b[0m  - Starting Rasa server on http://0.0.0.0:5005\n",
      "2023-04-19 06:05:15 \u001b[1;30mINFO    \u001b[0m \u001b[34mrasa.core.processor\u001b[0m  - Loading model models/20230419-060420-pleasant-landform.tar.gz...\n",
      "2023-04-19 06:05:50 \u001b[1;30mWARNING \u001b[0m \u001b[34mrasa.shared.utils.common\u001b[0m  - \u001b[33mThe UnexpecTED Intent Policy is currently experimental and might change or be removed in the future 🔬 Please share your feedback on it in the forum (https://forum.rasa.com) to help us make this feature ready for production.\u001b[0m\n",
      "2023-04-19 06:06:07 \u001b[1;30mINFO    \u001b[0m \u001b[34mroot\u001b[0m  - Rasa server is up and running.\n",
      "\u001b[92mBot loaded. Type a message and press enter (use '/stop' to exit): \u001b[0m\n",
      "\u001b[15C\u001b[?7h\u001b[0m\u001b[?12l\u001b[?25h\u001b[15D\u001b[J\u001b[0m\u001b[?7h\u001b[?2004lWARNING: your terminal doesn't support cursor position requests (CPR).\n",
      "\u001b[0m\n",
      "\u001b[J\u001b[?7h\u001b[0m\u001b[?12l\u001b[?25h\u001b[?2004l\u001b[94mHey! How are you?\u001b[0m\n",
      "\u001b[15C\u001b[?7h\u001b[0m\u001b[?12l\u001b[?25h\u001b[15D\u001b[J\u001b[0m\u001b[?7h\u001b[?2004lWARNING: your terminal doesn't support cursor position requests (CPR).\n",
      "\u001b[0m\n",
      "\u001b[J\u001b[?7h\u001b[0m\u001b[?12l\u001b[?25h\u001b[?2004l\u001b[94mI am a bot, powered by Rasa.\u001b[0m\n",
      "\u001b[15C\u001b[?7h\u001b[0m\u001b[?12l\u001b[?25h\u001b[15D\u001b[J\u001b[0m\u001b[?7h\u001b[?2004lWARNING: your terminal doesn't support cursor position requests (CPR).\n",
      "\u001b[0m\n",
      "\u001b[J\u001b[?7h\u001b[0m\u001b[?12l\u001b[?25h\u001b[?2004l\n",
      "Cancelled by user\n",
      "\n",
      "2023-04-19 06:09:43 \u001b[1;30mINFO    \u001b[0m \u001b[34mroot\u001b[0m  - Killing Sanic server now.\n"
     ]
    },
    {
     "data": {
      "text/plain": []
     },
     "execution_count": 7,
     "metadata": {},
     "output_type": "execute_result"
    }
   ],
   "source": [
    "%%shell\n",
    "rasa shell"
   ]
  },
  {
   "cell_type": "markdown",
   "metadata": {
    "id": "mKFwjfdDkjxH"
   },
   "source": [
    "# using python \n",
    "[docs link](https://rasa.com/docs/rasa/jupyter-notebooks/#train-a-model)"
   ]
  },
  {
   "cell_type": "code",
   "execution_count": null,
   "metadata": {
    "id": "N2acd8CzksGS"
   },
   "outputs": [],
   "source": [
    "!pip3 install nest_asyncio\n",
    "!pip3 install rasa[full]\n",
    "# !pip3 uninstall packaging\n",
    "# !pip3 install packaging==21.3"
   ]
  },
  {
   "cell_type": "code",
   "execution_count": null,
   "metadata": {
    "colab": {
     "base_uri": "https://localhost:8080/",
     "height": 212
    },
    "executionInfo": {
     "elapsed": 11580,
     "status": "ok",
     "timestamp": 1682058777551,
     "user": {
      "displayName": "Shalabh Agarwal",
      "userId": "16764498119904849353"
     },
     "user_tz": -330
    },
    "id": "51-fqAL3nFfx",
    "outputId": "8f7ab9be-eae1-46da-ab41-c7e0f7c93573"
   },
   "outputs": [
    {
     "name": "stdout",
     "output_type": "stream",
     "text": [
      "Found existing installation: packaging 20.9\n",
      "Uninstalling packaging-20.9:\n",
      "  Would remove:\n",
      "    /usr/local/lib/python3.9/dist-packages/packaging-20.9.dist-info/*\n",
      "    /usr/local/lib/python3.9/dist-packages/packaging/*\n",
      "Proceed (Y/n)? n\n",
      "Looking in indexes: https://pypi.org/simple, https://us-python.pkg.dev/colab-wheels/public/simple/\n",
      "Requirement already satisfied: packaging==20.9 in /usr/local/lib/python3.9/dist-packages (20.9)\n",
      "Requirement already satisfied: pyparsing>=2.0.2 in /usr/local/lib/python3.9/dist-packages (from packaging==20.9) (3.0.9)\n"
     ]
    },
    {
     "data": {
      "application/vnd.google.colaboratory.intrinsic+json": {
       "type": "string"
      },
      "text/plain": [
       "'20.9'"
      ]
     },
     "execution_count": 3,
     "metadata": {},
     "output_type": "execute_result"
    }
   ],
   "source": [
    "!pip3 uninstall packaging \n",
    "!pip3 install packaging==20.9\n",
    "# !pip3 show packaging\n",
    "import packaging\n",
    "packaging.__version__\n",
    "# from packaging.version import LegacyVersion"
   ]
  },
  {
   "cell_type": "code",
   "execution_count": null,
   "metadata": {
    "colab": {
     "base_uri": "https://localhost:8080/"
    },
    "executionInfo": {
     "elapsed": 29,
     "status": "ok",
     "timestamp": 1682059179903,
     "user": {
      "displayName": "Shalabh Agarwal",
      "userId": "16764498119904849353"
     },
     "user_tz": -330
    },
    "id": "F70LYZaikvw3",
    "outputId": "3ab6183d-d618-4647-ee9b-498c6f83c226"
   },
   "outputs": [
    {
     "name": "stdout",
     "output_type": "stream",
     "text": [
      "Event loop ready.\n"
     ]
    }
   ],
   "source": [
    "import nest_asyncio\n",
    "\n",
    "nest_asyncio.apply()\n",
    "print(\"Event loop ready.\")"
   ]
  },
  {
   "cell_type": "code",
   "execution_count": null,
   "metadata": {
    "colab": {
     "base_uri": "https://localhost:8080/"
    },
    "executionInfo": {
     "elapsed": 26,
     "status": "ok",
     "timestamp": 1682059179904,
     "user": {
      "displayName": "Shalabh Agarwal",
      "userId": "16764498119904849353"
     },
     "user_tz": -330
    },
    "id": "F6FkL1n0k0bb",
    "outputId": "a20a4193-56f4-4e5e-8bc3-f9de55b31e34"
   },
   "outputs": [
    {
     "name": "stdout",
     "output_type": "stream",
     "text": [
      "['config.yml', 'tests', 'domain.yml', 'credentials.yml', 'endpoints.yml', 'actions', 'data']\n"
     ]
    }
   ],
   "source": [
    "from rasa.cli.scaffold import create_initial_project\n",
    "import os\n",
    "\n",
    "project = \"test-project\"\n",
    "create_initial_project(project)\n",
    "\n",
    "# move into project directory and show files\n",
    "os.chdir(project)\n",
    "print(os.listdir(\".\"))"
   ]
  },
  {
   "cell_type": "code",
   "execution_count": null,
   "metadata": {
    "colab": {
     "base_uri": "https://localhost:8080/"
    },
    "executionInfo": {
     "elapsed": 22,
     "status": "ok",
     "timestamp": 1682059179904,
     "user": {
      "displayName": "Shalabh Agarwal",
      "userId": "16764498119904849353"
     },
     "user_tz": -330
    },
    "id": "he41pCeGk2H9",
    "outputId": "6709dcba-4c13-40a2-9b70-196a25a2a077"
   },
   "outputs": [
    {
     "name": "stdout",
     "output_type": "stream",
     "text": [
      "config.yml data/ domain.yml models/\n"
     ]
    }
   ],
   "source": [
    "config = \"config.yml\"\n",
    "training_files = \"data/\"\n",
    "domain = \"domain.yml\"\n",
    "output = \"models/\"\n",
    "print(config, training_files, domain, output)"
   ]
  },
  {
   "cell_type": "code",
   "execution_count": null,
   "metadata": {
    "colab": {
     "base_uri": "https://localhost:8080/"
    },
    "executionInfo": {
     "elapsed": 10015,
     "status": "ok",
     "timestamp": 1682061721227,
     "user": {
      "displayName": "Shalabh Agarwal",
      "userId": "16764498119904849353"
     },
     "user_tz": -330
    },
    "id": "4qHcLSh5lY82",
    "outputId": "5577cd63-e961-4cad-cdfb-3c88971d5729"
   },
   "outputs": [
    {
     "name": "stdout",
     "output_type": "stream",
     "text": [
      "\u001b[94mThe configuration for pipeline and policies was chosen automatically. It was written into the config file at 'config.yml'.\u001b[0m\n",
      "\u001b[92mYour Rasa model is trained and saved at 'models/20230421-072151-fast-drivetrain.tar.gz'.\u001b[0m\n",
      "TrainingResult(model='models/20230421-072151-fast-drivetrain.tar.gz', code=0, dry_run_results=None)\n"
     ]
    }
   ],
   "source": [
    "import rasa\n",
    "\n",
    "model_path = rasa.train(domain, config, [training_files], output)\n",
    "print(model_path)"
   ]
  },
  {
   "cell_type": "code",
   "execution_count": null,
   "metadata": {
    "colab": {
     "base_uri": "https://localhost:8080/",
     "height": 1000
    },
    "executionInfo": {
     "elapsed": 122217,
     "status": "error",
     "timestamp": 1682062587959,
     "user": {
      "displayName": "Shalabh Agarwal",
      "userId": "16764498119904849353"
     },
     "user_tz": -330
    },
    "id": "FBEv4T_NlblW",
    "outputId": "0274610b-802b-4ddd-ec48-9dffdf42998b"
   },
   "outputs": [
    {
     "name": "stderr",
     "output_type": "stream",
     "text": [
      "WARNING:rasa.shared.utils.common:The UnexpecTED Intent Policy is currently experimental and might change or be removed in the future 🔬 Please share your feedback on it in the forum (https://forum.rasa.com) to help us make this feature ready for production.\n"
     ]
    },
    {
     "name": "stdout",
     "output_type": "stream",
     "text": [
      "Your bot is ready to talk! Type your messages here or send '/stop'.\n",
      "my name is abc\n",
      "\u001b[92mHere is something to cheer you up:\u001b[0m\n"
     ]
    },
    {
     "data": {
      "text/html": [
       "<img src=\"https://i.imgur.com/nGF1K8f.jpg\"/>"
      ],
      "text/plain": [
       "<IPython.core.display.Image object>"
      ]
     },
     "metadata": {},
     "output_type": "display_data"
    },
    {
     "name": "stdout",
     "output_type": "stream",
     "text": [
      "\u001b[92mDid that help you?\u001b[0m\n"
     ]
    },
    {
     "ename": "KeyboardInterrupt",
     "evalue": "ignored",
     "output_type": "error",
     "traceback": [
      "\u001b[0;31m---------------------------------------------------------------------------\u001b[0m",
      "\u001b[0;31mKeyboardInterrupt\u001b[0m                         Traceback (most recent call last)",
      "\u001b[0;32m<ipython-input-19-1e1f18b4a521>\u001b[0m in \u001b[0;36m<cell line: 5>\u001b[0;34m()\u001b[0m\n\u001b[1;32m      3\u001b[0m \u001b[0;31m# endpoints = \"endpoints.yml\"\u001b[0m\u001b[0;34m\u001b[0m\u001b[0;34m\u001b[0m\u001b[0m\n\u001b[1;32m      4\u001b[0m \u001b[0mendpoints\u001b[0m \u001b[0;34m=\u001b[0m \u001b[0;32mNone\u001b[0m\u001b[0;34m\u001b[0m\u001b[0;34m\u001b[0m\u001b[0m\n\u001b[0;32m----> 5\u001b[0;31m \u001b[0mchat\u001b[0m\u001b[0;34m(\u001b[0m\u001b[0mmodel_path\u001b[0m\u001b[0;34m.\u001b[0m\u001b[0mmodel\u001b[0m\u001b[0;34m,\u001b[0m \u001b[0mendpoints\u001b[0m\u001b[0;34m)\u001b[0m\u001b[0;34m\u001b[0m\u001b[0;34m\u001b[0m\u001b[0m\n\u001b[0m",
      "\u001b[0;32m/usr/local/lib/python3.9/dist-packages/rasa/jupyter.py\u001b[0m in \u001b[0;36mchat\u001b[0;34m(model_path, endpoints, agent)\u001b[0m\n\u001b[1;32m     43\u001b[0m     \u001b[0mprint\u001b[0m\u001b[0;34m(\u001b[0m\u001b[0;34m\"Your bot is ready to talk! Type your messages here or send '/stop'.\"\u001b[0m\u001b[0;34m)\u001b[0m\u001b[0;34m\u001b[0m\u001b[0;34m\u001b[0m\u001b[0m\n\u001b[1;32m     44\u001b[0m     \u001b[0;32mwhile\u001b[0m \u001b[0;32mTrue\u001b[0m\u001b[0;34m:\u001b[0m\u001b[0;34m\u001b[0m\u001b[0;34m\u001b[0m\u001b[0m\n\u001b[0;32m---> 45\u001b[0;31m         \u001b[0mmessage\u001b[0m \u001b[0;34m=\u001b[0m \u001b[0minput\u001b[0m\u001b[0;34m(\u001b[0m\u001b[0;34m)\u001b[0m\u001b[0;34m\u001b[0m\u001b[0;34m\u001b[0m\u001b[0m\n\u001b[0m\u001b[1;32m     46\u001b[0m         \u001b[0;32mif\u001b[0m \u001b[0mmessage\u001b[0m \u001b[0;34m==\u001b[0m \u001b[0;34m\"/stop\"\u001b[0m\u001b[0;34m:\u001b[0m\u001b[0;34m\u001b[0m\u001b[0;34m\u001b[0m\u001b[0m\n\u001b[1;32m     47\u001b[0m             \u001b[0;32mbreak\u001b[0m\u001b[0;34m\u001b[0m\u001b[0;34m\u001b[0m\u001b[0m\n",
      "\u001b[0;32m/usr/local/lib/python3.9/dist-packages/ipykernel/kernelbase.py\u001b[0m in \u001b[0;36mraw_input\u001b[0;34m(self, prompt)\u001b[0m\n\u001b[1;32m    849\u001b[0m                 \u001b[0;34m\"raw_input was called, but this frontend does not support input requests.\"\u001b[0m\u001b[0;34m\u001b[0m\u001b[0;34m\u001b[0m\u001b[0m\n\u001b[1;32m    850\u001b[0m             )\n\u001b[0;32m--> 851\u001b[0;31m         return self._input_request(str(prompt),\n\u001b[0m\u001b[1;32m    852\u001b[0m             \u001b[0mself\u001b[0m\u001b[0;34m.\u001b[0m\u001b[0m_parent_ident\u001b[0m\u001b[0;34m,\u001b[0m\u001b[0;34m\u001b[0m\u001b[0;34m\u001b[0m\u001b[0m\n\u001b[1;32m    853\u001b[0m             \u001b[0mself\u001b[0m\u001b[0;34m.\u001b[0m\u001b[0m_parent_header\u001b[0m\u001b[0;34m,\u001b[0m\u001b[0;34m\u001b[0m\u001b[0;34m\u001b[0m\u001b[0m\n",
      "\u001b[0;32m/usr/local/lib/python3.9/dist-packages/ipykernel/kernelbase.py\u001b[0m in \u001b[0;36m_input_request\u001b[0;34m(self, prompt, ident, parent, password)\u001b[0m\n\u001b[1;32m    893\u001b[0m             \u001b[0;32mexcept\u001b[0m \u001b[0mKeyboardInterrupt\u001b[0m\u001b[0;34m:\u001b[0m\u001b[0;34m\u001b[0m\u001b[0;34m\u001b[0m\u001b[0m\n\u001b[1;32m    894\u001b[0m                 \u001b[0;31m# re-raise KeyboardInterrupt, to truncate traceback\u001b[0m\u001b[0;34m\u001b[0m\u001b[0;34m\u001b[0m\u001b[0m\n\u001b[0;32m--> 895\u001b[0;31m                 \u001b[0;32mraise\u001b[0m \u001b[0mKeyboardInterrupt\u001b[0m\u001b[0;34m(\u001b[0m\u001b[0;34m\"Interrupted by user\"\u001b[0m\u001b[0;34m)\u001b[0m \u001b[0;32mfrom\u001b[0m \u001b[0;32mNone\u001b[0m\u001b[0;34m\u001b[0m\u001b[0;34m\u001b[0m\u001b[0m\n\u001b[0m\u001b[1;32m    896\u001b[0m             \u001b[0;32mexcept\u001b[0m \u001b[0mException\u001b[0m \u001b[0;32mas\u001b[0m \u001b[0me\u001b[0m\u001b[0;34m:\u001b[0m\u001b[0;34m\u001b[0m\u001b[0;34m\u001b[0m\u001b[0m\n\u001b[1;32m    897\u001b[0m                 \u001b[0mself\u001b[0m\u001b[0;34m.\u001b[0m\u001b[0mlog\u001b[0m\u001b[0;34m.\u001b[0m\u001b[0mwarning\u001b[0m\u001b[0;34m(\u001b[0m\u001b[0;34m\"Invalid Message:\"\u001b[0m\u001b[0;34m,\u001b[0m \u001b[0mexc_info\u001b[0m\u001b[0;34m=\u001b[0m\u001b[0;32mTrue\u001b[0m\u001b[0;34m)\u001b[0m\u001b[0;34m\u001b[0m\u001b[0;34m\u001b[0m\u001b[0m\n",
      "\u001b[0;31mKeyboardInterrupt\u001b[0m: Interrupted by user"
     ]
    }
   ],
   "source": [
    "from rasa.jupyter import chat\n",
    "\n",
    "# endpoints = \"endpoints.yml\"\n",
    "endpoints = None\n",
    "chat(model_path.model, endpoints)"
   ]
  }
 ],
 "metadata": {
  "accelerator": "GPU",
  "colab": {
   "authorship_tag": "ABX9TyMuSHBa1OCWyiUdUJNMu/fx",
   "collapsed_sections": [
    "4dfOY9SbkL5D"
   ],
   "gpuType": "T4",
   "provenance": []
  },
  "gpuClass": "standard",
  "kernelspec": {
   "display_name": "Python 3 (ipykernel)",
   "language": "python",
   "name": "python3"
  },
  "language_info": {
   "codemirror_mode": {
    "name": "ipython",
    "version": 3
   },
   "file_extension": ".py",
   "mimetype": "text/x-python",
   "name": "python",
   "nbconvert_exporter": "python",
   "pygments_lexer": "ipython3",
   "version": "3.11.1"
  }
 },
 "nbformat": 4,
 "nbformat_minor": 1
}
